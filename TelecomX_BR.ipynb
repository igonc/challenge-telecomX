{
  "cells": [
    {
      "cell_type": "markdown",
      "metadata": {},
      "source": [
        "# Telecom X – Desafio de Análise de Evasão de Clientes\n",
        "\n",
        "A **Telecom X**, uma das principais empresas de telecomunicações do mercado, vem enfrentando um **alto índice de cancelamentos de clientes (churn)**. Esse fenômeno impacta diretamente a receita e a competitividade da empresa, tornando urgente a identificação dos **fatores que levam os clientes a encerrar seus contratos**.\n",
        "\n",
        "Como **assistente de análise de dados**, você integrará o projeto **\"Churn de Clientes\"**, que tem como objetivo compreender profundamente o comportamento da base de clientes e gerar **insights estratégicos** que apoiem a criação de ações para **reduzir a evasão**.\n",
        "\n",
        "Neste desafio, você irá trabalhar com um **dataset realista** disponibilizado via API no formato JSON, contendo informações demográficas, tipos de serviços contratados e histórico de relacionamento com a empresa.\n",
        "\n",
        "---\n",
        "\n",
        "## Etapas do Desafio\n",
        "\n",
        "1. **Extração (E – Extract)**  \n",
        "   - Carregar os dados diretamente da API da Telecom X usando Python.  \n",
        "   - Garantir que a leitura seja feita no formato adequado e salvar uma cópia local para reprodutibilidade.\n",
        "\n",
        "2. **Transformação (T – Transform)**  \n",
        "   - Limpar inconsistências, padronizar formatos, tratar valores ausentes e ajustar tipos de dados.  \n",
        "   - Preparar o dataset para análises exploratórias e modelagem.\n",
        "\n",
        "3. **Carga (L – Load)**  \n",
        "   - Armazenar os dados tratados em um formato adequado (ex.: Parquet ou CSV) para uso posterior pela equipe de Data Science.\n",
        "\n",
        "4. **Análise Exploratória (EDA)**  \n",
        "   - Criar visualizações estratégicas para identificar padrões, correlações e tendências relacionadas ao churn.  \n",
        "   - Gerar um relatório com insights claros e objetivos que servirão de base para o desenvolvimento de modelos preditivos.\n",
        "\n",
        "---\n",
        "\n",
        "## O que você vai praticar\n",
        "✅ Importar e manipular dados a partir de uma API de forma eficiente.  \n",
        "✅ Aplicar conceitos práticos de **ETL** na preparação de dados para análise.  \n",
        "✅ Criar visualizações e métricas para **identificar padrões e tendências**.  \n",
        "✅ Desenvolver uma análise exploratória de dados (EDA) para apoiar **decisões estratégicas**.  \n",
        "\n",
        "---\n",
        "\n",
        "Agora é sua vez! 🚀  \n",
        "Use seus conhecimentos para transformar **dados brutos** em **informações estratégicas** e contribuir para que a **Telecom X** retenha mais clientes e aumente sua vantagem competitiva.\n"
      ]
    },
    {
      "cell_type": "markdown",
      "metadata": {},
      "source": [
        "## O que é ETL e por que isso é importante\n",
        "\n",
        "**ETL** significa **Extração (Extract), Transformação (Transform) e Carga (Load)**.  \n",
        "É o processo fundamental que leva dados de fontes diversas (APIs, arquivos, bancos), **padroniza e limpa** essas informações, e as **carrega** para um destino confiável (ex.: data warehouse, camadas “processed” ou “gold”).\n",
        "\n",
        "### Por que ETL é essencial em Data Science e Analytics?\n",
        "- **Qualidade e confiabilidade**: remove inconsistências, trata nulos e garante tipos corretos.\n",
        "- **Reprodutibilidade**: documenta o fluxo de dados de ponta a ponta.\n",
        "- **Performance analítica**: prepara dados prontos para EDA, modelagem e dashboards.\n",
        "- **Governança**: cria trilhas de auditoria (de onde veio e como foi transformado).\n",
        "\n",
        "No fim, **um bom ETL acelera a análise** e dá segurança para que as decisões e modelos preditivos sejam baseados em dados sólidos.\n"
      ]
    },
    {
      "cell_type": "markdown",
      "metadata": {},
      "source": [
        "## ETL — Etapa E (Extração dos Dados)\n",
        "\n",
        "**Objetivo desta seção:** carregar os dados da API (JSON) da Telecom X a partir do link *raw* do GitHub, **validar a resposta** e **criar uma cópia local** dos dados brutos para reprodutibilidade.\n",
        "\n",
        "**Entradas:**\n",
        "- URL (raw) do JSON no GitHub\n",
        "\n",
        "**Saídas:**\n",
        "- `df_raw` (DataFrame com os dados brutos)\n",
        "- Arquivo salvo em `data/raw/TelecomX_Data.json` (cópia local)\n"
      ]
    },
    {
      "cell_type": "code",
      "execution_count": 9,
      "metadata": {},
      "outputs": [],
      "source": [
        "# Imports e configurações\n",
        "import os\n",
        "from pathlib import Path\n",
        "import io, json\n",
        "import pandas as pd\n",
        "import numpy as np\n",
        "\n",
        "# Opcional: útil para checar status HTTP\n",
        "try:\n",
        "    import requests\n",
        "    HAS_REQUESTS = True\n",
        "except ImportError:\n",
        "    HAS_REQUESTS = False\n",
        "\n",
        "pd.set_option(\"display.max_columns\", 100)\n",
        "pd.set_option(\"display.width\", 120)\n",
        "\n",
        "# Cria estrutura para dados brutos (se ainda não existir)\n",
        "RAW_DIR = Path(\"data/raw\")\n",
        "RAW_DIR.mkdir(parents=True, exist_ok=True)\n"
      ]
    },
    {
      "cell_type": "markdown",
      "metadata": {},
      "source": [
        "### Fonte de dados (RAW)\n",
        "\n",
        "- Link **RAW** do JSON (GitHub):\n",
        "  - `https://raw.githubusercontent.com/ingridcristh/challenge2-data-science/main/TelecomX_Data.json`\n",
        "\n",
        "**Plano de leitura:**\n",
        "1. (Opcional) Verificar se a URL responde com status 200.\n",
        "2. Ler o JSON em um `DataFrame` (`pandas.read_json`).\n",
        "3. Salvar uma **cópia local** em `data/raw/TelecomX_Data.json` para reprodutibilidade.\n",
        "4. Exibir **amostra**, **shape** e **tipos**."
      ]
    },
    {
      "cell_type": "code",
      "execution_count": 11,
      "metadata": {},
      "outputs": [
        {
          "name": "stdout",
          "output_type": "stream",
          "text": [
            "Status HTTP: 200\n",
            "Arquivo bruto salvo em: D:\\Users\\rodri\\Documents\\ONE + Alura\\ONE G8\\Challenges\\challenge-telecomX\\data\\raw\\TelecomX_Data.json\n",
            "Tipo de df_raw: <class 'pandas.core.frame.DataFrame'> | nome: DataFrame\n",
            "Shape: (7267, 6)\n"
          ]
        },
        {
          "data": {
            "text/html": [
              "<div>\n",
              "<style scoped>\n",
              "    .dataframe tbody tr th:only-of-type {\n",
              "        vertical-align: middle;\n",
              "    }\n",
              "\n",
              "    .dataframe tbody tr th {\n",
              "        vertical-align: top;\n",
              "    }\n",
              "\n",
              "    .dataframe thead th {\n",
              "        text-align: right;\n",
              "    }\n",
              "</style>\n",
              "<table border=\"1\" class=\"dataframe\">\n",
              "  <thead>\n",
              "    <tr style=\"text-align: right;\">\n",
              "      <th></th>\n",
              "      <th>customerID</th>\n",
              "      <th>Churn</th>\n",
              "      <th>customer</th>\n",
              "      <th>phone</th>\n",
              "      <th>internet</th>\n",
              "      <th>account</th>\n",
              "    </tr>\n",
              "  </thead>\n",
              "  <tbody>\n",
              "    <tr>\n",
              "      <th>0</th>\n",
              "      <td>0002-ORFBO</td>\n",
              "      <td>No</td>\n",
              "      <td>{'gender': 'Female', 'SeniorCitizen': 0, 'Part...</td>\n",
              "      <td>{'PhoneService': 'Yes', 'MultipleLines': 'No'}</td>\n",
              "      <td>{'InternetService': 'DSL', 'OnlineSecurity': '...</td>\n",
              "      <td>{'Contract': 'One year', 'PaperlessBilling': '...</td>\n",
              "    </tr>\n",
              "    <tr>\n",
              "      <th>1</th>\n",
              "      <td>0003-MKNFE</td>\n",
              "      <td>No</td>\n",
              "      <td>{'gender': 'Male', 'SeniorCitizen': 0, 'Partne...</td>\n",
              "      <td>{'PhoneService': 'Yes', 'MultipleLines': 'Yes'}</td>\n",
              "      <td>{'InternetService': 'DSL', 'OnlineSecurity': '...</td>\n",
              "      <td>{'Contract': 'Month-to-month', 'PaperlessBilli...</td>\n",
              "    </tr>\n",
              "    <tr>\n",
              "      <th>2</th>\n",
              "      <td>0004-TLHLJ</td>\n",
              "      <td>Yes</td>\n",
              "      <td>{'gender': 'Male', 'SeniorCitizen': 0, 'Partne...</td>\n",
              "      <td>{'PhoneService': 'Yes', 'MultipleLines': 'No'}</td>\n",
              "      <td>{'InternetService': 'Fiber optic', 'OnlineSecu...</td>\n",
              "      <td>{'Contract': 'Month-to-month', 'PaperlessBilli...</td>\n",
              "    </tr>\n",
              "    <tr>\n",
              "      <th>3</th>\n",
              "      <td>0011-IGKFF</td>\n",
              "      <td>Yes</td>\n",
              "      <td>{'gender': 'Male', 'SeniorCitizen': 1, 'Partne...</td>\n",
              "      <td>{'PhoneService': 'Yes', 'MultipleLines': 'No'}</td>\n",
              "      <td>{'InternetService': 'Fiber optic', 'OnlineSecu...</td>\n",
              "      <td>{'Contract': 'Month-to-month', 'PaperlessBilli...</td>\n",
              "    </tr>\n",
              "    <tr>\n",
              "      <th>4</th>\n",
              "      <td>0013-EXCHZ</td>\n",
              "      <td>Yes</td>\n",
              "      <td>{'gender': 'Female', 'SeniorCitizen': 1, 'Part...</td>\n",
              "      <td>{'PhoneService': 'Yes', 'MultipleLines': 'No'}</td>\n",
              "      <td>{'InternetService': 'Fiber optic', 'OnlineSecu...</td>\n",
              "      <td>{'Contract': 'Month-to-month', 'PaperlessBilli...</td>\n",
              "    </tr>\n",
              "    <tr>\n",
              "      <th>...</th>\n",
              "      <td>...</td>\n",
              "      <td>...</td>\n",
              "      <td>...</td>\n",
              "      <td>...</td>\n",
              "      <td>...</td>\n",
              "      <td>...</td>\n",
              "    </tr>\n",
              "    <tr>\n",
              "      <th>7262</th>\n",
              "      <td>9987-LUTYD</td>\n",
              "      <td>No</td>\n",
              "      <td>{'gender': 'Female', 'SeniorCitizen': 0, 'Part...</td>\n",
              "      <td>{'PhoneService': 'Yes', 'MultipleLines': 'No'}</td>\n",
              "      <td>{'InternetService': 'DSL', 'OnlineSecurity': '...</td>\n",
              "      <td>{'Contract': 'One year', 'PaperlessBilling': '...</td>\n",
              "    </tr>\n",
              "    <tr>\n",
              "      <th>7263</th>\n",
              "      <td>9992-RRAMN</td>\n",
              "      <td>Yes</td>\n",
              "      <td>{'gender': 'Male', 'SeniorCitizen': 0, 'Partne...</td>\n",
              "      <td>{'PhoneService': 'Yes', 'MultipleLines': 'Yes'}</td>\n",
              "      <td>{'InternetService': 'Fiber optic', 'OnlineSecu...</td>\n",
              "      <td>{'Contract': 'Month-to-month', 'PaperlessBilli...</td>\n",
              "    </tr>\n",
              "    <tr>\n",
              "      <th>7264</th>\n",
              "      <td>9992-UJOEL</td>\n",
              "      <td>No</td>\n",
              "      <td>{'gender': 'Male', 'SeniorCitizen': 0, 'Partne...</td>\n",
              "      <td>{'PhoneService': 'Yes', 'MultipleLines': 'No'}</td>\n",
              "      <td>{'InternetService': 'DSL', 'OnlineSecurity': '...</td>\n",
              "      <td>{'Contract': 'Month-to-month', 'PaperlessBilli...</td>\n",
              "    </tr>\n",
              "    <tr>\n",
              "      <th>7265</th>\n",
              "      <td>9993-LHIEB</td>\n",
              "      <td>No</td>\n",
              "      <td>{'gender': 'Male', 'SeniorCitizen': 0, 'Partne...</td>\n",
              "      <td>{'PhoneService': 'Yes', 'MultipleLines': 'No'}</td>\n",
              "      <td>{'InternetService': 'DSL', 'OnlineSecurity': '...</td>\n",
              "      <td>{'Contract': 'Two year', 'PaperlessBilling': '...</td>\n",
              "    </tr>\n",
              "    <tr>\n",
              "      <th>7266</th>\n",
              "      <td>9995-HOTOH</td>\n",
              "      <td>No</td>\n",
              "      <td>{'gender': 'Male', 'SeniorCitizen': 0, 'Partne...</td>\n",
              "      <td>{'PhoneService': 'No', 'MultipleLines': 'No ph...</td>\n",
              "      <td>{'InternetService': 'DSL', 'OnlineSecurity': '...</td>\n",
              "      <td>{'Contract': 'Two year', 'PaperlessBilling': '...</td>\n",
              "    </tr>\n",
              "  </tbody>\n",
              "</table>\n",
              "<p>7267 rows × 6 columns</p>\n",
              "</div>"
            ],
            "text/plain": [
              "      customerID Churn                                           customer  \\\n",
              "0     0002-ORFBO    No  {'gender': 'Female', 'SeniorCitizen': 0, 'Part...   \n",
              "1     0003-MKNFE    No  {'gender': 'Male', 'SeniorCitizen': 0, 'Partne...   \n",
              "2     0004-TLHLJ   Yes  {'gender': 'Male', 'SeniorCitizen': 0, 'Partne...   \n",
              "3     0011-IGKFF   Yes  {'gender': 'Male', 'SeniorCitizen': 1, 'Partne...   \n",
              "4     0013-EXCHZ   Yes  {'gender': 'Female', 'SeniorCitizen': 1, 'Part...   \n",
              "...          ...   ...                                                ...   \n",
              "7262  9987-LUTYD    No  {'gender': 'Female', 'SeniorCitizen': 0, 'Part...   \n",
              "7263  9992-RRAMN   Yes  {'gender': 'Male', 'SeniorCitizen': 0, 'Partne...   \n",
              "7264  9992-UJOEL    No  {'gender': 'Male', 'SeniorCitizen': 0, 'Partne...   \n",
              "7265  9993-LHIEB    No  {'gender': 'Male', 'SeniorCitizen': 0, 'Partne...   \n",
              "7266  9995-HOTOH    No  {'gender': 'Male', 'SeniorCitizen': 0, 'Partne...   \n",
              "\n",
              "                                                  phone                                           internet  \\\n",
              "0        {'PhoneService': 'Yes', 'MultipleLines': 'No'}  {'InternetService': 'DSL', 'OnlineSecurity': '...   \n",
              "1       {'PhoneService': 'Yes', 'MultipleLines': 'Yes'}  {'InternetService': 'DSL', 'OnlineSecurity': '...   \n",
              "2        {'PhoneService': 'Yes', 'MultipleLines': 'No'}  {'InternetService': 'Fiber optic', 'OnlineSecu...   \n",
              "3        {'PhoneService': 'Yes', 'MultipleLines': 'No'}  {'InternetService': 'Fiber optic', 'OnlineSecu...   \n",
              "4        {'PhoneService': 'Yes', 'MultipleLines': 'No'}  {'InternetService': 'Fiber optic', 'OnlineSecu...   \n",
              "...                                                 ...                                                ...   \n",
              "7262     {'PhoneService': 'Yes', 'MultipleLines': 'No'}  {'InternetService': 'DSL', 'OnlineSecurity': '...   \n",
              "7263    {'PhoneService': 'Yes', 'MultipleLines': 'Yes'}  {'InternetService': 'Fiber optic', 'OnlineSecu...   \n",
              "7264     {'PhoneService': 'Yes', 'MultipleLines': 'No'}  {'InternetService': 'DSL', 'OnlineSecurity': '...   \n",
              "7265     {'PhoneService': 'Yes', 'MultipleLines': 'No'}  {'InternetService': 'DSL', 'OnlineSecurity': '...   \n",
              "7266  {'PhoneService': 'No', 'MultipleLines': 'No ph...  {'InternetService': 'DSL', 'OnlineSecurity': '...   \n",
              "\n",
              "                                                account  \n",
              "0     {'Contract': 'One year', 'PaperlessBilling': '...  \n",
              "1     {'Contract': 'Month-to-month', 'PaperlessBilli...  \n",
              "2     {'Contract': 'Month-to-month', 'PaperlessBilli...  \n",
              "3     {'Contract': 'Month-to-month', 'PaperlessBilli...  \n",
              "4     {'Contract': 'Month-to-month', 'PaperlessBilli...  \n",
              "...                                                 ...  \n",
              "7262  {'Contract': 'One year', 'PaperlessBilling': '...  \n",
              "7263  {'Contract': 'Month-to-month', 'PaperlessBilli...  \n",
              "7264  {'Contract': 'Month-to-month', 'PaperlessBilli...  \n",
              "7265  {'Contract': 'Two year', 'PaperlessBilling': '...  \n",
              "7266  {'Contract': 'Two year', 'PaperlessBilling': '...  \n",
              "\n",
              "[7267 rows x 6 columns]"
            ]
          },
          "metadata": {},
          "output_type": "display_data"
        },
        {
          "name": "stdout",
          "output_type": "stream",
          "text": [
            "<class 'pandas.core.frame.DataFrame'>\n",
            "RangeIndex: 7267 entries, 0 to 7266\n",
            "Data columns (total 6 columns):\n",
            " #   Column      Non-Null Count  Dtype \n",
            "---  ------      --------------  ----- \n",
            " 0   customerID  7267 non-null   object\n",
            " 1   Churn       7267 non-null   object\n",
            " 2   customer    7267 non-null   object\n",
            " 3   phone       7267 non-null   object\n",
            " 4   internet    7267 non-null   object\n",
            " 5   account     7267 non-null   object\n",
            "dtypes: object(6)\n",
            "memory usage: 340.8+ KB\n"
          ]
        },
        {
          "data": {
            "text/plain": [
              "None"
            ]
          },
          "metadata": {},
          "output_type": "display_data"
        }
      ],
      "source": [
        "# URL do arquivo JSON bruto (API)\n",
        "DATA_URL_RAW = \"https://raw.githubusercontent.com/ingridcristh/challenge2-data-science/main/TelecomX_Data.json\"\n",
        "LOCAL_RAW_PATH = RAW_DIR / \"TelecomX_Data.json\"\n",
        "\n",
        "# 1) Baixar diretamente da API (link raw) usando Python\n",
        "if not HAS_REQUESTS:\n",
        "    raise ImportError(\"O pacote 'requests' é necessário para a etapa de extração direta da API.\")\n",
        "\n",
        "resp = requests.get(DATA_URL_RAW, timeout=30)\n",
        "print(\"Status HTTP:\", resp.status_code)\n",
        "resp.raise_for_status()  # garante 2xx\n",
        "\n",
        "# 2) Converter o payload recebido diretamente para DataFrame do pandas\n",
        "#    (garante que é via Python -> API -> DataFrame)\n",
        "try:\n",
        "    # se o JSON é uma lista de registros, isso funciona bem:\n",
        "    df_raw = pd.read_json(io.StringIO(resp.text))\n",
        "except ValueError:\n",
        "    # fallback: carregar via json.loads -> DataFrame\n",
        "    data = json.loads(resp.text)\n",
        "    df_raw = pd.DataFrame(data)\n",
        "\n",
        "# ✅ Garantias explícitas dos requisitos\n",
        "assert isinstance(df_raw, pd.DataFrame), \"Falha: os dados não foram convertidos em um DataFrame.\"\n",
        "assert not df_raw.empty, \"Atenção: DataFrame vazio após leitura da API.\"\n",
        "\n",
        "# 3) Salvar cópia local (reprodutibilidade)\n",
        "LOCAL_RAW_PATH.write_text(resp.text, encoding=\"utf-8\")\n",
        "print(f\"Arquivo bruto salvo em: {LOCAL_RAW_PATH.resolve()}\")\n",
        "\n",
        "# 4) Visão rápida (sem despejar tudo na tela)\n",
        "print(\"Tipo de df_raw:\", type(df_raw), \"| nome:\", type(df_raw).__name__)\n",
        "print(\"Shape:\", df_raw.shape)\n",
        "display(df_raw)\n",
        "display(df_raw.info())\n"
      ]
    },
    {
      "cell_type": "markdown",
      "metadata": {
        "id": "1lSZP8zmmGZu"
      },
      "source": [
        "# Transformação"
      ]
    },
    {
      "cell_type": "code",
      "execution_count": null,
      "metadata": {
        "id": "bsm-WTLjmHvt"
      },
      "outputs": [],
      "source": []
    },
    {
      "cell_type": "markdown",
      "metadata": {
        "id": "6XnTC2NTmMRL"
      },
      "source": [
        "# Carga e análise"
      ]
    },
    {
      "cell_type": "code",
      "execution_count": null,
      "metadata": {
        "id": "1jgUnLqTmPdd"
      },
      "outputs": [],
      "source": []
    },
    {
      "cell_type": "markdown",
      "metadata": {
        "id": "v-WzfSvTmaw9"
      },
      "source": [
        "#📄Relatorio Final"
      ]
    },
    {
      "cell_type": "code",
      "execution_count": null,
      "metadata": {
        "id": "XMTac0YJmeK9"
      },
      "outputs": [],
      "source": []
    }
  ],
  "metadata": {
    "colab": {
      "provenance": []
    },
    "kernelspec": {
      "display_name": "Python 3",
      "name": "python3"
    },
    "language_info": {
      "codemirror_mode": {
        "name": "ipython",
        "version": 3
      },
      "file_extension": ".py",
      "mimetype": "text/x-python",
      "name": "python",
      "nbconvert_exporter": "python",
      "pygments_lexer": "ipython3",
      "version": "3.13.5"
    }
  },
  "nbformat": 4,
  "nbformat_minor": 0
}
